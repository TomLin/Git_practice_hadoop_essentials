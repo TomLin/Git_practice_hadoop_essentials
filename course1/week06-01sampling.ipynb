{
 "cells": [
  {
   "cell_type": "code",
   "execution_count": 2,
   "metadata": {},
   "outputs": [],
   "source": [
    "import pandas as pd\n",
    "import numpy as np"
   ]
  },
  {
   "cell_type": "code",
   "execution_count": 3,
   "metadata": {},
   "outputs": [
    {
     "name": "stdout",
     "output_type": "stream",
     "text": [
      "README.md                         week05-01spark-word-pair.ipynb\r\n",
      "\u001b[34mspark-the-definitive-guide\u001b[m\u001b[m        week06-01sampling.ipynb\r\n",
      "week03-01word-count.ipynb         week06-sample100.csv\r\n",
      "week03-02word-rating.ipynb        week06-sample10000.csv\r\n",
      "week03-03stop-word.ipynb          week06-working-with-samples.ipynb\r\n"
     ]
    }
   ],
   "source": [
    "! ls"
   ]
  },
  {
   "cell_type": "code",
   "execution_count": 4,
   "metadata": {},
   "outputs": [
    {
     "name": "stdout",
     "output_type": "stream",
     "text": [
      "VendorID,tpep_pickup_datetime,tpep_dropoff_datetime,passenger_count,trip_distance,RatecodeID,store_and_fwd_flag,PULocationID,DOLocationID,payment_type,fare_amount,extra,mta_tax,tip_amount,tolls_amount,improvement_surcharge,total_amount\r",
      "\r\n",
      "2,2016-12-19 20:13:04,2016-12-19 20:16:58,1,.87,1,N,238,142,1,5,0.5,0.5,1.5,0,0.3,7.8\r",
      "\r\n",
      "1,2016-12-27 19:28:48,2016-12-27 19:30:31,1,.10,1,N,231,144,2,3,1,0.5,0,0,0.3,4.8\r",
      "\r\n",
      "1,2016-12-17 00:57:37,2016-12-17 01:10:37,3,2.30,1,N,90,233,1,11,0.5,0.5,2.45,0,0.3,14.75\r",
      "\r\n",
      "1,2016-12-01 20:32:54,2016-12-01 20:52:17,1,5.00,1,N,13,143,1,18.5,0.5,0.5,3.95,0,0.3,23.75\r",
      "\r\n",
      "2,2016-12-12 19:25:14,2016-12-12 19:34:15,2,1.43,1,N,164,79,1,7.5,1,0.5,1,0,0.3,10.3\r",
      "\r\n",
      "2,2016-12-14 20:16:30,2016-12-14 20:27:05,4,.94,1,N,162,230,2,8,0.5,0.5,0,0,0.3,9.3\r",
      "\r\n",
      "2,2016-12-22 10:12:29,2016-12-22 10:21:08,1,1.01,1,N,262,263,1,7,0,0.5,1.95,0,0.3,9.75\r",
      "\r\n",
      "2,2016-12-30 19:11:29,2016-12-30 19:20:03,2,.98,1,N,161,186,1,7,1,0.5,2.2,0,0.3,11\r",
      "\r\n",
      "2,2016-12-07 09:22:07,2016-12-07 09:39:30,1,1.05,1,N,141,162,1,11,0,0.5,2.36,0,0.3,14.16\r",
      "\r\n"
     ]
    }
   ],
   "source": [
    "! head week06-sample10000.csv"
   ]
  },
  {
   "cell_type": "code",
   "execution_count": 7,
   "metadata": {},
   "outputs": [],
   "source": [
    "sample10000 = pd.read_csv(\"week06-sample10000.csv\", header=0)"
   ]
  },
  {
   "cell_type": "code",
   "execution_count": 10,
   "metadata": {},
   "outputs": [
    {
     "name": "stdout",
     "output_type": "stream",
     "text": [
      "   VendorID tpep_pickup_datetime tpep_dropoff_datetime  passenger_count  \\\n",
      "0         2  2016-12-19 20:13:04   2016-12-19 20:16:58                1   \n",
      "1         1  2016-12-27 19:28:48   2016-12-27 19:30:31                1   \n",
      "\n",
      "   trip_distance  RatecodeID store_and_fwd_flag  PULocationID  DOLocationID  \\\n",
      "0           0.87           1                  N           238           142   \n",
      "1           0.10           1                  N           231           144   \n",
      "\n",
      "   payment_type  fare_amount  extra  mta_tax  tip_amount  tolls_amount  \\\n",
      "0             1          5.0    0.5      0.5         1.5           0.0   \n",
      "1             2          3.0    1.0      0.5         0.0           0.0   \n",
      "\n",
      "   improvement_surcharge  total_amount  \n",
      "0                    0.3           7.8  \n",
      "1                    0.3           4.8  \n",
      "<class 'pandas.core.frame.DataFrame'>\n",
      "RangeIndex: 10000 entries, 0 to 9999\n",
      "Data columns (total 17 columns):\n",
      "VendorID                 10000 non-null int64\n",
      "tpep_pickup_datetime     10000 non-null object\n",
      "tpep_dropoff_datetime    10000 non-null object\n",
      "passenger_count          10000 non-null int64\n",
      "trip_distance            10000 non-null float64\n",
      "RatecodeID               10000 non-null int64\n",
      "store_and_fwd_flag       10000 non-null object\n",
      "PULocationID             10000 non-null int64\n",
      "DOLocationID             10000 non-null int64\n",
      "payment_type             10000 non-null int64\n",
      "fare_amount              10000 non-null float64\n",
      "extra                    10000 non-null float64\n",
      "mta_tax                  10000 non-null float64\n",
      "tip_amount               10000 non-null float64\n",
      "tolls_amount             10000 non-null float64\n",
      "improvement_surcharge    10000 non-null float64\n",
      "total_amount             10000 non-null float64\n",
      "dtypes: float64(8), int64(6), object(3)\n",
      "memory usage: 1.3+ MB\n",
      "None\n"
     ]
    }
   ],
   "source": [
    "print(sample10000.head(n=2))\n",
    "print(sample10000.info())"
   ]
  },
  {
   "cell_type": "code",
   "execution_count": 22,
   "metadata": {},
   "outputs": [
    {
     "name": "stdout",
     "output_type": "stream",
     "text": [
      "cash payment count: 3543\n"
     ]
    }
   ],
   "source": [
    "count = (sample10000.payment_type == 2).sum()\n",
    "print(\"cash payment count:\", count)"
   ]
  },
  {
   "cell_type": "markdown",
   "metadata": {},
   "source": [
    "### confidence interval for proportion estimate"
   ]
  },
  {
   "cell_type": "code",
   "execution_count": 25,
   "metadata": {},
   "outputs": [
    {
     "name": "stdout",
     "output_type": "stream",
     "text": [
      "0.3543\n"
     ]
    }
   ],
   "source": [
    "ph = count/sample10000.shape[0]\n",
    "print(ph)"
   ]
  },
  {
   "cell_type": "code",
   "execution_count": 26,
   "metadata": {},
   "outputs": [
    {
     "name": "stdout",
     "output_type": "stream",
     "text": [
      "0.004783006481283503\n"
     ]
    }
   ],
   "source": [
    "sd = np.sqrt(ph*(1-ph)/sample10000.shape[0])\n",
    "print(sd)"
   ]
  },
  {
   "cell_type": "markdown",
   "metadata": {},
   "source": [
    "### build 99% confidence interval"
   ]
  },
  {
   "cell_type": "code",
   "execution_count": 29,
   "metadata": {},
   "outputs": [],
   "source": [
    "from statsmodels.stats.proportion import proportion_confint"
   ]
  },
  {
   "cell_type": "code",
   "execution_count": 30,
   "metadata": {},
   "outputs": [
    {
     "data": {
      "text/plain": [
       "(0.34197979174644566, 0.36662020825355435)"
      ]
     },
     "execution_count": 30,
     "metadata": {},
     "output_type": "execute_result"
    }
   ],
   "source": [
    "proportion_confint(count, sample10000.shape[0], alpha=0.01)"
   ]
  },
  {
   "cell_type": "markdown",
   "metadata": {},
   "source": [
    "### average for trip distance in miles"
   ]
  },
  {
   "cell_type": "code",
   "execution_count": 31,
   "metadata": {},
   "outputs": [
    {
     "name": "stdout",
     "output_type": "stream",
     "text": [
      "2.881264\n"
     ]
    }
   ],
   "source": [
    "td = sample10000.trip_distance.mean()\n",
    "print(td)"
   ]
  },
  {
   "cell_type": "code",
   "execution_count": 33,
   "metadata": {},
   "outputs": [
    {
     "name": "stdout",
     "output_type": "stream",
     "text": [
      "0.03583925411394529\n"
     ]
    }
   ],
   "source": [
    "td_s = sample10000.trip_distance.std()/np.sqrt(sample10000.shape[0])\n",
    "print(td_s)"
   ]
  },
  {
   "cell_type": "markdown",
   "metadata": {},
   "source": [
    "### confidence interval of 95% for trip distance"
   ]
  },
  {
   "cell_type": "code",
   "execution_count": 34,
   "metadata": {},
   "outputs": [],
   "source": [
    "from statsmodels.stats.weightstats import _tconfint_generic"
   ]
  },
  {
   "cell_type": "code",
   "execution_count": 35,
   "metadata": {},
   "outputs": [
    {
     "data": {
      "text/plain": [
       "(2.8110118487985973, 2.9515161512014023)"
      ]
     },
     "execution_count": 35,
     "metadata": {},
     "output_type": "execute_result"
    }
   ],
   "source": [
    "_tconfint_generic(td, td_s, sample10000.shape[0]-1, 0.05, 'two-sided')"
   ]
  },
  {
   "cell_type": "code",
   "execution_count": null,
   "metadata": {},
   "outputs": [],
   "source": []
  }
 ],
 "metadata": {
  "kernelspec": {
   "display_name": "Python 3",
   "language": "python",
   "name": "python3"
  },
  "language_info": {
   "codemirror_mode": {
    "name": "ipython",
    "version": 3
   },
   "file_extension": ".py",
   "mimetype": "text/x-python",
   "name": "python",
   "nbconvert_exporter": "python",
   "pygments_lexer": "ipython3",
   "version": "3.6.5"
  },
  "toc": {
   "base_numbering": 1,
   "nav_menu": {},
   "number_sections": true,
   "sideBar": true,
   "skip_h1_title": false,
   "title_cell": "Table of Contents",
   "title_sidebar": "Contents",
   "toc_cell": false,
   "toc_position": {},
   "toc_section_display": true,
   "toc_window_display": false
  }
 },
 "nbformat": 4,
 "nbformat_minor": 2
}
