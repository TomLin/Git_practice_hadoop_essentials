{
 "cells": [
  {
   "cell_type": "markdown",
   "metadata": {},
   "source": [
    "### initiate a spark context/session"
   ]
  },
  {
   "cell_type": "code",
   "execution_count": 1,
   "metadata": {},
   "outputs": [],
   "source": [
    "import pyspark\n",
    "from pyspark import SparkConf, SparkContext\n",
    "sc = SparkContext(conf=SparkConf().setAppName('MyApp').setMaster('local'))"
   ]
  },
  {
   "cell_type": "code",
   "execution_count": 2,
   "metadata": {},
   "outputs": [],
   "source": [
    "def parse_edge(s):\n",
    "    user, follower = s.split('\\t')\n",
    "    return (int(user), int(follower))"
   ]
  },
  {
   "cell_type": "code",
   "execution_count": 3,
   "metadata": {},
   "outputs": [],
   "source": [
    "edges = sc.textFile('/data/twitter/twitter_sample_small.txt')"
   ]
  },
  {
   "cell_type": "code",
   "execution_count": 4,
   "metadata": {},
   "outputs": [],
   "source": [
    "edges = edges.map(parse_edge).cache()"
   ]
  },
  {
   "cell_type": "code",
   "execution_count": 5,
   "metadata": {},
   "outputs": [
    {
     "data": {
      "text/plain": [
       "[(12, 2241), (12, 13349)]"
      ]
     },
     "execution_count": 5,
     "metadata": {},
     "output_type": "execute_result"
    }
   ],
   "source": [
    "edges.take(2)"
   ]
  },
  {
   "cell_type": "code",
   "execution_count": 6,
   "metadata": {},
   "outputs": [],
   "source": [
    "n = 4 # create partitions\n",
    "forward_edges = edges.map(lambda e: (e[1], e[0])).partitionBy(n).persist() "
   ]
  },
  {
   "cell_type": "code",
   "execution_count": 7,
   "metadata": {},
   "outputs": [
    {
     "data": {
      "text/plain": [
       "[(755452, 12), (794748, 12)]"
      ]
     },
     "execution_count": 7,
     "metadata": {},
     "output_type": "execute_result"
    }
   ],
   "source": [
    "forward_edges.take(2)"
   ]
  },
  {
   "cell_type": "markdown",
   "metadata": {},
   "source": [
    "### focus on one instance vertex for demostration"
   ]
  },
  {
   "cell_type": "code",
   "execution_count": 8,
   "metadata": {},
   "outputs": [
    {
     "data": {
      "text/plain": [
       "[(12, (0, 126)), (12, (0, 380))]"
      ]
     },
     "execution_count": 8,
     "metadata": {},
     "output_type": "execute_result"
    }
   ],
   "source": [
    "x = 12\n",
    "distances = sc.parallelize([(x, 0)])\n",
    "distances.join(forward_edges).take(2)"
   ]
  },
  {
   "cell_type": "markdown",
   "metadata": {},
   "source": [
    "### create a set of candidates - (key, value) where key is the next vertex of x and value is the distance"
   ]
  },
  {
   "cell_type": "code",
   "execution_count": 9,
   "metadata": {},
   "outputs": [],
   "source": [
    "def step(item):\n",
    "    prev_v, prev_d, next_v = item[0], item[1][0], item[1][1]\n",
    "    return (next_v, prev_d +1)"
   ]
  },
  {
   "cell_type": "code",
   "execution_count": 10,
   "metadata": {},
   "outputs": [
    {
     "data": {
      "text/plain": [
       "[(126, 1), (380, 1)]"
      ]
     },
     "execution_count": 10,
     "metadata": {},
     "output_type": "execute_result"
    }
   ],
   "source": [
    "candidates = distances.join(forward_edges).map(step)\n",
    "candidates.take(2)"
   ]
  },
  {
   "cell_type": "markdown",
   "metadata": {},
   "source": [
    "### create a full join set where every key is the connected vertex to x and (the old and new distance) in the second tuple "
   ]
  },
  {
   "cell_type": "code",
   "execution_count": 11,
   "metadata": {},
   "outputs": [
    {
     "data": {
      "text/plain": [
       "[(648, (None, 1)), (12, (0, None))]"
      ]
     },
     "execution_count": 11,
     "metadata": {},
     "output_type": "execute_result"
    }
   ],
   "source": [
    "distances.fullOuterJoin(candidates).take(2)"
   ]
  },
  {
   "cell_type": "markdown",
   "metadata": {},
   "source": [
    "Footnote: reference for [fullOuterJoin](http://blog.cheyo.net/175.html)"
   ]
  },
  {
   "cell_type": "markdown",
   "metadata": {},
   "source": [
    "### create a final set of (key, value) and every pair is the following vertex and corresponding distance"
   ]
  },
  {
   "cell_type": "code",
   "execution_count": 12,
   "metadata": {},
   "outputs": [],
   "source": [
    "def complete(item):\n",
    "    v, old_d, new_d = item[0], item[1][0], item[1][1]\n",
    "    return (v, old_d if old_d is not None else new_d)"
   ]
  },
  {
   "cell_type": "code",
   "execution_count": 13,
   "metadata": {},
   "outputs": [],
   "source": [
    "new_distances = distances.fullOuterJoin(candidates).map(complete)"
   ]
  },
  {
   "cell_type": "code",
   "execution_count": 14,
   "metadata": {},
   "outputs": [
    {
     "data": {
      "text/plain": [
       "[(648, 1), (12, 0)]"
      ]
     },
     "execution_count": 14,
     "metadata": {},
     "output_type": "execute_result"
    }
   ],
   "source": [
    "new_distances.take(2)"
   ]
  },
  {
   "cell_type": "markdown",
   "metadata": {},
   "source": [
    "### create a loop"
   ]
  },
  {
   "cell_type": "code",
   "execution_count": 15,
   "metadata": {},
   "outputs": [],
   "source": [
    "x = 12\n",
    "d = 0\n",
    "distances = sc.parallelize([(x,d)]).partitionBy(n)"
   ]
  },
  {
   "cell_type": "code",
   "execution_count": 16,
   "metadata": {},
   "outputs": [
    {
     "name": "stdout",
     "output_type": "stream",
     "text": [
      "('d = ', 1, 'count = ', 4)\n",
      "('d = ', 2, 'count = ', 1)\n",
      "('d = ', 3, 'count = ', 7)\n",
      "('d = ', 4, 'count = ', 2)\n",
      "('d = ', 5, 'count = ', 3)\n",
      "('d = ', 6, 'count = ', 3)\n",
      "('d = ', 7, 'count = ', 4)\n",
      "('d = ', 8, 'count = ', 2)\n"
     ]
    }
   ],
   "source": [
    "while True:\n",
    "    candidates = distances.join(forward_edges, n).map(step) # n is the partition\n",
    "    # spark will not delete intermediate data after computation if we use persist()\n",
    "    new_distances = distances.fullOuterJoin(candidates, n).map(complete).persist()\n",
    "    count = new_distances.filter(lambda i: i[1] == d+1).count()\n",
    "    \n",
    "    if count > 0:\n",
    "        d += 1\n",
    "        distances = new_distances\n",
    "        print(\"d = \", d, \"count = \", count)\n",
    "    else:\n",
    "        break"
   ]
  },
  {
   "cell_type": "markdown",
   "metadata": {},
   "source": [
    "### reconstruct shortest path"
   ]
  },
  {
   "cell_type": "code",
   "execution_count": 17,
   "metadata": {},
   "outputs": [],
   "source": [
    "x = 12\n",
    "path = 12"
   ]
  },
  {
   "cell_type": "code",
   "execution_count": 18,
   "metadata": {},
   "outputs": [],
   "source": [
    "x_path = sc.parallelize([(x,tuple([path]))]).partitionBy(n)"
   ]
  },
  {
   "cell_type": "code",
   "execution_count": 19,
   "metadata": {},
   "outputs": [
    {
     "data": {
      "text/plain": [
       "[(12, (12,))]"
      ]
     },
     "execution_count": 19,
     "metadata": {},
     "output_type": "execute_result"
    }
   ],
   "source": [
    "x_path.collect()"
   ]
  },
  {
   "cell_type": "markdown",
   "metadata": {},
   "source": [
    "### create a new set of candidates - (key, path) where key is the next vertex and path is the collection of vertexes"
   ]
  },
  {
   "cell_type": "code",
   "execution_count": 20,
   "metadata": {},
   "outputs": [],
   "source": [
    "def step_on_path(item):\n",
    "    prev_v, pathes, next_v = item[0], item[1][0], item[1][1]\n",
    "    pathes += tuple([next_v])\n",
    "    return (next_v, pathes)"
   ]
  },
  {
   "cell_type": "code",
   "execution_count": 21,
   "metadata": {},
   "outputs": [],
   "source": [
    "candidates = x_path.join(forward_edges).map(step_on_path)"
   ]
  },
  {
   "cell_type": "code",
   "execution_count": 22,
   "metadata": {},
   "outputs": [
    {
     "data": {
      "text/plain": [
       "[(126, (12, 126)), (380, (12, 380))]"
      ]
     },
     "execution_count": 22,
     "metadata": {},
     "output_type": "execute_result"
    }
   ],
   "source": [
    "candidates.take(2)"
   ]
  },
  {
   "cell_type": "markdown",
   "metadata": {},
   "source": [
    "### create a final set (key, path) where every pair is the following vertex and corresponding vertexes path "
   ]
  },
  {
   "cell_type": "code",
   "execution_count": 23,
   "metadata": {},
   "outputs": [],
   "source": [
    "def complete_path(item):\n",
    "    v, old_path, new_path = item[0], item[1][0], item[1][1]\n",
    "    return (v, old_path if old_path is not None else new_path)"
   ]
  },
  {
   "cell_type": "code",
   "execution_count": 24,
   "metadata": {},
   "outputs": [
    {
     "name": "stdout",
     "output_type": "stream",
     "text": [
      "continue on new path\n",
      "continue on new path\n",
      "continue on new path\n",
      "continue on new path\n",
      "continue on new path\n",
      "continue on new path\n",
      "continue on new path\n"
     ]
    }
   ],
   "source": [
    "while True:\n",
    "    candidates = x_path.join(forward_edges, n).map(step_on_path)\n",
    "    new_x_path = x_path.fullOuterJoin(candidates, n).map(complete_path, True).persist()\n",
    "    count = new_x_path.filter(lambda i: i[0] == 34).count() # 34 is the ending vertex\n",
    "    if count > 0:\n",
    "        break\n",
    "    else:\n",
    "        x_path = new_x_path\n",
    "        print('continue on new path')    "
   ]
  },
  {
   "cell_type": "code",
   "execution_count": 26,
   "metadata": {},
   "outputs": [
    {
     "name": "stdout",
     "output_type": "stream",
     "text": [
      "('number of pathes from vertex 12 to vertex 34:', 1)\n"
     ]
    }
   ],
   "source": [
    "final_set_path = new_x_path.filter(lambda i: i[0] == 34)\n",
    "print(\"number of pathes from vertex 12 to vertex 34:\", final_set_path.count())"
   ]
  },
  {
   "cell_type": "code",
   "execution_count": 27,
   "metadata": {},
   "outputs": [],
   "source": [
    "final = list(final_set_path.collect()[0][1])"
   ]
  },
  {
   "cell_type": "code",
   "execution_count": 28,
   "metadata": {},
   "outputs": [
    {
     "name": "stdout",
     "output_type": "stream",
     "text": [
      "12,422,53,52,107,20,23,274,34\n"
     ]
    }
   ],
   "source": [
    "print(','.join(map(str, final)))"
   ]
  }
 ],
 "metadata": {
  "kernelspec": {
   "display_name": "Python 3",
   "language": "python",
   "name": "python3"
  },
  "language_info": {
   "codemirror_mode": {
    "name": "ipython",
    "version": 3
   },
   "file_extension": ".py",
   "mimetype": "text/x-python",
   "name": "python",
   "nbconvert_exporter": "python",
   "pygments_lexer": "ipython3",
   "version": "3.6.5"
  },
  "toc": {
   "base_numbering": 1,
   "nav_menu": {},
   "number_sections": true,
   "sideBar": true,
   "skip_h1_title": false,
   "title_cell": "Table of Contents",
   "title_sidebar": "Contents",
   "toc_cell": false,
   "toc_position": {},
   "toc_section_display": true,
   "toc_window_display": false
  }
 },
 "nbformat": 4,
 "nbformat_minor": 2
}
