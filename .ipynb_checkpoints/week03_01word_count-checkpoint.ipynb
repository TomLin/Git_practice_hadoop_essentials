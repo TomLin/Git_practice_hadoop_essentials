{
 "cells": [
  {
   "cell_type": "code",
   "execution_count": null,
   "metadata": {},
   "outputs": [],
   "source": [
    "%%writefile word_count_mapper.py\n",
    "# in python 2\n",
    "\n",
    "import sys, io\n",
    "import re\n",
    "\n",
    "reload(sys)\n",
    "sys.setdefaultencoding('utf-8')\n",
    "\n",
    "for line in sys.stdin:\n",
    "    try:\n",
    "        article_id, content = unicode(line.strip()).split('\\t', 1)\n",
    "    except ValueError as e:\n",
    "        continue\n",
    "    word_list = re.split(\"\\W*\\s+\\W*\", content, flags=re.UNICODE)\n",
    "    for word in word_list:\n",
    "        print >> sys.stderr, \"reporter:counter:word_tracker,total_word,%d\" %1\n",
    "        print \"%s\\t%d\" %(word.lower(), 1)"
   ]
  },
  {
   "cell_type": "code",
   "execution_count": null,
   "metadata": {},
   "outputs": [],
   "source": [
    "%%writefile word_count_reducer.py\n",
    "# in python 2\n",
    "\n",
    "import sys\n",
    "current_word = None\n",
    "word_counts = 0\n",
    "\n",
    "for line in sys.stdin:\n",
    "    try:\n",
    "        word, counts = line.strip().split(\"\\t\",1)\n",
    "        counts = int(counts)\n",
    "    except ValueError as e:\n",
    "        continue\n",
    "    if word != current_word:\n",
    "        if current_word:\n",
    "            print \"%s\\t%d\" %(current_word, word_counts)\n",
    "        current_word = word\n",
    "        word_counts = 0\n",
    "    word_counts += counts\n",
    "    \n",
    "if current_word:\n",
    "    print \"%s\\t%d\" %(current_word, word_counts)"
   ]
  },
  {
   "cell_type": "code",
   "execution_count": null,
   "metadata": {},
   "outputs": [],
   "source": [
    "%%bash\n",
    "\n",
    "OUT_DIR=\"wordcount_result_\"$(date +\"%s%6N\")\n",
    "NUM_REDUCERS=8\n",
    "\n",
    "hdfs dfs -rm -r -skipTrash ${OUT_DIR} > /dev/null\n",
    "\n",
    "yarn jar /opt/cloudera/parcels/CDH/lib/hadoop-mapreduce/hadoop-streaming.jar \\\n",
    "    -D mapred.jab.name=\"Streaming wordCount\" \\\n",
    "    -D mapreduce.job.reduces=${NUM_REDUCERS} \\\n",
    "    -files word_count_mapper.py,word_count_reducer.py \\\n",
    "    -mapper \"python word_count_mapper.py\" \\\n",
    "    -combiner \"python word_count_reducer.py\" \\\n",
    "    -reducer \"python word_count_reducer.py\" \\\n",
    "    -input /data/wiki/en_articles_part \\\n",
    "    -output ${OUT_DIR} > /dev/null\n",
    "\n",
    "hdfs dfs -cat ${OUT_DIR}/part-00000 | head"
   ]
  }
 ],
 "metadata": {
  "kernelspec": {
   "display_name": "Python 3",
   "language": "python",
   "name": "python3"
  },
  "language_info": {
   "codemirror_mode": {
    "name": "ipython",
    "version": 3
   },
   "file_extension": ".py",
   "mimetype": "text/x-python",
   "name": "python",
   "nbconvert_exporter": "python",
   "pygments_lexer": "ipython3",
   "version": "3.6.5"
  },
  "toc": {
   "base_numbering": 1,
   "nav_menu": {},
   "number_sections": true,
   "sideBar": true,
   "skip_h1_title": false,
   "title_cell": "Table of Contents",
   "title_sidebar": "Contents",
   "toc_cell": false,
   "toc_position": {},
   "toc_section_display": true,
   "toc_window_display": false
  }
 },
 "nbformat": 4,
 "nbformat_minor": 2
}
