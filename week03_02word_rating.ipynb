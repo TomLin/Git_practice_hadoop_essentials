{
 "cells": [
  {
   "cell_type": "markdown",
   "metadata": {
    "colab_type": "text",
    "id": "Ebk-YqgqEOw1"
   },
   "source": [
    "# Hadoop Streaming assignment 1: Words Rating"
   ]
  },
  {
   "cell_type": "markdown",
   "metadata": {
    "colab_type": "text",
    "id": "XDLjl7hGEOw2"
   },
   "source": [
    "The purpose of this task is to create your own WordCount program for Wikipedia dump processing and learn basic concepts of the MapReduce.\n",
    "\n",
    "In this task you have to find the 7th word by popularity and its quantity in the reverse order (most popular first) in Wikipedia data (`/data/wiki/en_articles_part`).\n",
    "\n",
    "There are several points for this task:\n",
    "\n",
    "1) As an output, you have to get the 7th word and its quantity separated by a tab character.\n",
    "\n",
    "2) You must use the second job to obtain a totally ordered result.\n",
    "\n",
    "3) Do not forget to redirect all trash and output to /dev/null.\n",
    "\n",
    "Here you can find the draft of the task main steps. You can use other methods for solution obtaining."
   ]
  },
  {
   "cell_type": "markdown",
   "metadata": {
    "colab_type": "text",
    "id": "lIUikVIDEOw2"
   },
   "source": [
    "## Step 1. Create mapper and reducer.\n",
    "\n",
    "<b>Hint:</b>  Demo task contains almost all the necessary pieces to complete this assignment. You may use the demo to implement the first MapReduce Job."
   ]
  },
  {
   "cell_type": "code",
   "execution_count": 1,
   "metadata": {
    "colab": {
     "autoexec": {
      "startup": false,
      "wait_interval": 0
     }
    },
    "colab_type": "code",
    "id": "A7T5mxDwEOw4"
   },
   "outputs": [
    {
     "name": "stdout",
     "output_type": "stream",
     "text": [
      "Overwriting mapper1.py\n"
     ]
    }
   ],
   "source": [
    "%%writefile mapper1.py\n",
    "\n",
    "import sys\n",
    "import re\n",
    "\n",
    "reload(sys)\n",
    "sys.setdefaultencoding('utf-8') # required to convert to unicode\n",
    "\n",
    "for line in sys.stdin:\n",
    "    try:\n",
    "        article_id, text = unicode(line.strip()).split('\\t', 1)\n",
    "    except ValueError as e:\n",
    "        continue\n",
    "    words = re.split(\"\\W*\\s+\\W*\", text, flags=re.UNICODE)\n",
    "    for word in words:\n",
    "        print >> sys.stderr, \"reporter:counter:word_status,total_word,%d\" % 1\n",
    "        print \"%s\\t%d\" % (word.lower(), 1)"
   ]
  },
  {
   "cell_type": "code",
   "execution_count": 2,
   "metadata": {
    "colab": {
     "autoexec": {
      "startup": false,
      "wait_interval": 0
     }
    },
    "colab_type": "code",
    "id": "oE8KFKqpEOw5"
   },
   "outputs": [
    {
     "name": "stdout",
     "output_type": "stream",
     "text": [
      "Overwriting reducer1.py\n"
     ]
    }
   ],
   "source": [
    "%%writefile reducer1.py\n",
    "\n",
    "import sys\n",
    "\n",
    "current_key = None\n",
    "word_sum = 0\n",
    "\n",
    "for line in sys.stdin:\n",
    "    try:\n",
    "        key, count = line.strip().split('\\t', 1)\n",
    "        count = int(count)\n",
    "    except ValueError as e:\n",
    "        continue\n",
    "    if current_key != key:\n",
    "        if current_key:\n",
    "            print \"%s\\t%d\" % (current_key, word_sum)\n",
    "        word_sum = 0\n",
    "        current_key = key\n",
    "    word_sum += count\n",
    "\n",
    "if current_key:\n",
    "    print \"%s\\t%d\" % (current_key, word_sum)"
   ]
  },
  {
   "cell_type": "markdown",
   "metadata": {
    "colab_type": "text",
    "id": "KYZpcwY9EOw6"
   },
   "source": [
    "## Step 2. Create sort job.\n",
    "\n",
    "<b>Hint:</b> You may use MapReduce comparator to solve this step. Make sure that the keys are sorted in ascending order."
   ]
  },
  {
   "cell_type": "code",
   "execution_count": 3,
   "metadata": {
    "colab": {
     "autoexec": {
      "startup": false,
      "wait_interval": 0
     }
    },
    "colab_type": "code",
    "id": "g-NMzQ79EOw7"
   },
   "outputs": [
    {
     "name": "stdout",
     "output_type": "stream",
     "text": [
      "Overwriting mapper2.py\n"
     ]
    }
   ],
   "source": [
    "%%writefile mapper2.py\n",
    "\n",
    "import sys\n",
    "import re\n",
    "\n",
    "reload(sys)\n",
    "sys.setdefaultencoding('utf-8') # required to convert to unicode\n",
    "\n",
    "for line in sys.stdin:\n",
    "    try:\n",
    "        key, count = line.strip().split('\\t',1)\n",
    "        count = int(count)\n",
    "    except ValueError as e:\n",
    "        continue\n",
    "    print \"%d\\t%s\" %(count, key)"
   ]
  },
  {
   "cell_type": "code",
   "execution_count": 4,
   "metadata": {
    "colab": {
     "autoexec": {
      "startup": false,
      "wait_interval": 0
     }
    },
    "colab_type": "code",
    "id": "qs6SKs7wO4be"
   },
   "outputs": [
    {
     "name": "stdout",
     "output_type": "stream",
     "text": [
      "Overwriting reducer2.py\n"
     ]
    }
   ],
   "source": [
    "%%writefile reducer2.py\n",
    "\n",
    "import sys\n",
    "import re\n",
    "\n",
    "reload(sys)\n",
    "sys.setdefaultencoding('utf-8') # required to convert to unicode\n",
    "\n",
    "for line in sys.stdin:\n",
    "    try:\n",
    "        count, key = line.strip().split('\\t',1)\n",
    "        count = int(count)\n",
    "    except ValueError as e:\n",
    "        continue\n",
    "    print \"%s\\t%d\" %(key, count)"
   ]
  },
  {
   "cell_type": "markdown",
   "metadata": {
    "colab_type": "text",
    "id": "4OBE81GZEOw8"
   },
   "source": [
    "## Step 3. Bash commands\n",
    "\n",
    "<b> Hint: </b> For printing the exact row you may use basic UNIX commands. For instance, sed/head/tail/... (if you know other commands, you can use them).\n",
    "\n",
    "To run both jobs, you must use two consecutive yarn-commands. Remember that the input for the second job is the ouput for the first job."
   ]
  },
  {
   "cell_type": "markdown",
   "metadata": {},
   "source": [
    "**CODE COMMENT**\n",
    "\n",
    "```shell\n",
    "OUT_DIR_2=\"assignment_2_\"$(date +\"%s%6N\")\n",
    "NUM_REDUCERS_2=1\n",
    "\n",
    "hdfs dfs -rm -r -skipTrash ${OUT_DIR_2} > /dev/null\n",
    "\n",
    "yarn jar /opt/cloudera/parcels/CDH/lib/hadoop-mapreduce/hadoop-streaming.jar \\\n",
    "    -D mapred.jab.name=\"Streaming wordCount_2\" \\\n",
    "    -D mapreduce.job.reduces=${NUM_REDUCERS_2} \\\n",
    "    -D mapreduce.job.output.key.comparator.class=org.apache.hadoop.mapreduce.lib.partition.KeyFieldBasedComparator \\\n",
    "    -D stream.map.output.field.separator=\\t \\ #在map output的階段，針對每個欄位，都是以\\t來分隔\n",
    "    -D stream.num.map.output.key.fields=1 \\ #在map output的階段將前面的幾個欄位，設定為key\n",
    "    -D mapreduce.map.output.key.field.separator=\\t \\ # 在map output階段，將key裡面的值，以\\t進行分隔\n",
    "    -D mapreduce.partition.keycomparator.options=-k1,1nr \\ #在map output階段，以第一個key，用numerical reverse的方式排序\n",
    "    -files mapper2.py,reducer2.py \\\n",
    "    -mapper \"python mapper2.py\" \\\n",
    "    -reducer \"python reducer2.py\" \\\n",
    "    -input ${OUT_DIR_1} \\\n",
    "    -output ${OUT_DIR_2} > /dev/null\n",
    "```"
   ]
  },
  {
   "cell_type": "code",
   "execution_count": 7,
   "metadata": {
    "colab": {
     "autoexec": {
      "startup": false,
      "wait_interval": 0
     }
    },
    "colab_type": "code",
    "id": "1q9NczdIEOw9"
   },
   "outputs": [
    {
     "name": "stdout",
     "output_type": "stream",
     "text": [
      "0%however\t1\n",
      "0&\\mathrm{if\t1\n",
      "0(8)320-1234\t1\n",
      "0)).(1\t2\n",
      "0,03\t1\n",
      "0,1,...,n\t1\n",
      "0,1,0\t1\n",
      "\the\t822164\n",
      "of\t447464\n",
      "and\t342715\n",
      "in\t292354\n",
      "\to\t241467\n",
      "a\t236225\n",
      "is\t126420\n"
     ]
    },
    {
     "name": "stderr",
     "output_type": "stream",
     "text": [
      "rm: `assignment_1_1533201152511695': No such file or directory\n",
      "18/08/02 09:12:36 INFO client.RMProxy: Connecting to ResourceManager at /0.0.0.0:8032\n",
      "18/08/02 09:12:36 INFO client.RMProxy: Connecting to ResourceManager at /0.0.0.0:8032\n",
      "18/08/02 09:12:36 INFO mapred.FileInputFormat: Total input files to process : 1\n",
      "18/08/02 09:12:37 INFO mapreduce.JobSubmitter: number of splits:2\n",
      "18/08/02 09:12:37 INFO mapreduce.JobSubmitter: Submitting tokens for job: job_1533143750107_0020\n",
      "18/08/02 09:12:37 INFO impl.YarnClientImpl: Submitted application application_1533143750107_0020\n",
      "18/08/02 09:12:37 INFO mapreduce.Job: The url to track the job: http://b0dbae425182:8088/proxy/application_1533143750107_0020/\n",
      "18/08/02 09:12:37 INFO mapreduce.Job: Running job: job_1533143750107_0020\n",
      "18/08/02 09:12:44 INFO mapreduce.Job: Job job_1533143750107_0020 running in uber mode : false\n",
      "18/08/02 09:12:44 INFO mapreduce.Job:  map 0% reduce 0%\n",
      "18/08/02 09:13:00 INFO mapreduce.Job:  map 33% reduce 0%\n",
      "18/08/02 09:13:06 INFO mapreduce.Job:  map 46% reduce 0%\n",
      "18/08/02 09:13:12 INFO mapreduce.Job:  map 51% reduce 0%\n",
      "18/08/02 09:13:18 INFO mapreduce.Job:  map 66% reduce 0%\n",
      "18/08/02 09:13:22 INFO mapreduce.Job:  map 83% reduce 0%\n",
      "18/08/02 09:13:24 INFO mapreduce.Job:  map 100% reduce 0%\n",
      "18/08/02 09:13:27 INFO mapreduce.Job:  map 100% reduce 13%\n",
      "18/08/02 09:13:28 INFO mapreduce.Job:  map 100% reduce 25%\n",
      "18/08/02 09:13:29 INFO mapreduce.Job:  map 100% reduce 50%\n",
      "18/08/02 09:13:31 INFO mapreduce.Job:  map 100% reduce 63%\n",
      "18/08/02 09:13:32 INFO mapreduce.Job:  map 100% reduce 88%\n",
      "18/08/02 09:13:33 INFO mapreduce.Job:  map 100% reduce 100%\n",
      "18/08/02 09:13:33 INFO mapreduce.Job: Job job_1533143750107_0020 completed successfully\n",
      "18/08/02 09:13:33 INFO mapreduce.Job: Counters: 51\n",
      "\tFile System Counters\n",
      "\t\tFILE: Number of bytes read=17954826\n",
      "\t\tFILE: Number of bytes written=28258143\n",
      "\t\tFILE: Number of read operations=0\n",
      "\t\tFILE: Number of large read operations=0\n",
      "\t\tFILE: Number of write operations=0\n",
      "\t\tHDFS: Number of bytes read=76874501\n",
      "\t\tHDFS: Number of bytes written=5370513\n",
      "\t\tHDFS: Number of read operations=30\n",
      "\t\tHDFS: Number of large read operations=0\n",
      "\t\tHDFS: Number of write operations=16\n",
      "\tJob Counters \n",
      "\t\tKilled reduce tasks=1\n",
      "\t\tLaunched map tasks=2\n",
      "\t\tLaunched reduce tasks=8\n",
      "\t\tData-local map tasks=2\n",
      "\t\tTotal time spent by all maps in occupied slots (ms)=74916\n",
      "\t\tTotal time spent by all reduces in occupied slots (ms)=22933\n",
      "\t\tTotal time spent by all map tasks (ms)=74916\n",
      "\t\tTotal time spent by all reduce tasks (ms)=22933\n",
      "\t\tTotal vcore-milliseconds taken by all map tasks=74916\n",
      "\t\tTotal vcore-milliseconds taken by all reduce tasks=22933\n",
      "\t\tTotal megabyte-milliseconds taken by all map tasks=76713984\n",
      "\t\tTotal megabyte-milliseconds taken by all reduce tasks=23483392\n",
      "\tMap-Reduce Framework\n",
      "\t\tMap input records=4100\n",
      "\t\tMap output records=11937375\n",
      "\t\tMap output bytes=97842436\n",
      "\t\tMap output materialized bytes=8952763\n",
      "\t\tInput split bytes=228\n",
      "\t\tCombine input records=11937375\n",
      "\t\tCombine output records=640011\n",
      "\t\tReduce input groups=427175\n",
      "\t\tReduce shuffle bytes=8952763\n",
      "\t\tReduce input records=640011\n",
      "\t\tReduce output records=427175\n",
      "\t\tSpilled Records=1920033\n",
      "\t\tShuffled Maps =16\n",
      "\t\tFailed Shuffles=0\n",
      "\t\tMerged Map outputs=16\n",
      "\t\tGC time elapsed (ms)=1357\n",
      "\t\tCPU time spent (ms)=132870\n",
      "\t\tPhysical memory (bytes) snapshot=2254663680\n",
      "\t\tVirtual memory (bytes) snapshot=20208832512\n",
      "\t\tTotal committed heap usage (bytes)=1540882432\n",
      "\tShuffle Errors\n",
      "\t\tBAD_ID=0\n",
      "\t\tCONNECTION=0\n",
      "\t\tIO_ERROR=0\n",
      "\t\tWRONG_LENGTH=0\n",
      "\t\tWRONG_MAP=0\n",
      "\t\tWRONG_REDUCE=0\n",
      "\tFile Input Format Counters \n",
      "\t\tBytes Read=76874273\n",
      "\tFile Output Format Counters \n",
      "\t\tBytes Written=5370513\n",
      "\tword_status\n",
      "\t\ttotal_word=11937375\n",
      "18/08/02 09:13:33 INFO streaming.StreamJob: Output directory: assignment_1_1533201152511695\n",
      "cat: Unable to write to output stream.\n",
      "rm: `assignment_2_1533201216186144': No such file or directory\n",
      "18/08/02 09:13:39 INFO client.RMProxy: Connecting to ResourceManager at /0.0.0.0:8032\n",
      "18/08/02 09:13:40 INFO client.RMProxy: Connecting to ResourceManager at /0.0.0.0:8032\n",
      "18/08/02 09:13:40 INFO mapred.FileInputFormat: Total input files to process : 8\n",
      "18/08/02 09:13:40 INFO mapreduce.JobSubmitter: number of splits:8\n",
      "18/08/02 09:13:40 INFO mapreduce.JobSubmitter: Submitting tokens for job: job_1533143750107_0021\n",
      "18/08/02 09:13:40 INFO impl.YarnClientImpl: Submitted application application_1533143750107_0021\n",
      "18/08/02 09:13:40 INFO mapreduce.Job: The url to track the job: http://b0dbae425182:8088/proxy/application_1533143750107_0021/\n",
      "18/08/02 09:13:40 INFO mapreduce.Job: Running job: job_1533143750107_0021\n",
      "18/08/02 09:13:46 INFO mapreduce.Job: Job job_1533143750107_0021 running in uber mode : false\n",
      "18/08/02 09:13:46 INFO mapreduce.Job:  map 0% reduce 0%\n",
      "18/08/02 09:13:53 INFO mapreduce.Job:  map 75% reduce 0%\n",
      "18/08/02 09:13:57 INFO mapreduce.Job:  map 100% reduce 0%\n",
      "18/08/02 09:13:59 INFO mapreduce.Job:  map 100% reduce 100%\n",
      "18/08/02 09:13:59 INFO mapreduce.Job: Job job_1533143750107_0021 completed successfully\n",
      "18/08/02 09:13:59 INFO mapreduce.Job: Counters: 49\n",
      "\tFile System Counters\n",
      "\t\tFILE: Number of bytes read=6486115\n",
      "\t\tFILE: Number of bytes written=14236645\n",
      "\t\tFILE: Number of read operations=0\n",
      "\t\tFILE: Number of large read operations=0\n",
      "\t\tFILE: Number of write operations=0\n",
      "\t\tHDFS: Number of bytes read=5371521\n",
      "\t\tHDFS: Number of bytes written=5358350\n",
      "\t\tHDFS: Number of read operations=27\n",
      "\t\tHDFS: Number of large read operations=0\n",
      "\t\tHDFS: Number of write operations=2\n",
      "\tJob Counters \n",
      "\t\tLaunched map tasks=8\n",
      "\t\tLaunched reduce tasks=1\n",
      "\t\tData-local map tasks=8\n",
      "\t\tTotal time spent by all maps in occupied slots (ms)=25493\n",
      "\t\tTotal time spent by all reduces in occupied slots (ms)=4007\n",
      "\t\tTotal time spent by all map tasks (ms)=25493\n",
      "\t\tTotal time spent by all reduce tasks (ms)=4007\n",
      "\t\tTotal vcore-milliseconds taken by all map tasks=25493\n",
      "\t\tTotal vcore-milliseconds taken by all reduce tasks=4007\n",
      "\t\tTotal megabyte-milliseconds taken by all map tasks=26104832\n",
      "\t\tTotal megabyte-milliseconds taken by all reduce tasks=4103168\n",
      "\tMap-Reduce Framework\n",
      "\t\tMap input records=427175\n",
      "\t\tMap output records=427175\n",
      "\t\tMap output bytes=5631751\n",
      "\t\tMap output materialized bytes=6486157\n",
      "\t\tInput split bytes=1008\n",
      "\t\tCombine input records=0\n",
      "\t\tCombine output records=0\n",
      "\t\tReduce input groups=378650\n",
      "\t\tReduce shuffle bytes=6486157\n",
      "\t\tReduce input records=427175\n",
      "\t\tReduce output records=427174\n",
      "\t\tSpilled Records=854350\n",
      "\t\tShuffled Maps =8\n",
      "\t\tFailed Shuffles=0\n",
      "\t\tMerged Map outputs=8\n",
      "\t\tGC time elapsed (ms)=1273\n",
      "\t\tCPU time spent (ms)=16760\n",
      "\t\tPhysical memory (bytes) snapshot=2522537984\n",
      "\t\tVirtual memory (bytes) snapshot=18107994112\n",
      "\t\tTotal committed heap usage (bytes)=1749024768\n",
      "\tShuffle Errors\n",
      "\t\tBAD_ID=0\n",
      "\t\tCONNECTION=0\n",
      "\t\tIO_ERROR=0\n",
      "\t\tWRONG_LENGTH=0\n",
      "\t\tWRONG_MAP=0\n",
      "\t\tWRONG_REDUCE=0\n",
      "\tFile Input Format Counters \n",
      "\t\tBytes Read=5370513\n",
      "\tFile Output Format Counters \n",
      "\t\tBytes Written=5358350\n",
      "18/08/02 09:13:59 INFO streaming.StreamJob: Output directory: assignment_2_1533201216186144\n",
      "cat: Unable to write to output stream.\n"
     ]
    }
   ],
   "source": [
    "%%bash\n",
    "\n",
    "\n",
    "OUT_DIR_1=\"assignment_1_\"$(date +\"%s%6N\")\n",
    "NUM_REDUCERS_1=8\n",
    "\n",
    "hdfs dfs -rm -r -skipTrash ${OUT_DIR_1} > /dev/null\n",
    "\n",
    "yarn jar /opt/cloudera/parcels/CDH/lib/hadoop-mapreduce/hadoop-streaming.jar \\\n",
    "    -D mapred.jab.name=\"Streaming wordCount_1\" \\\n",
    "    -D mapreduce.job.reduces=${NUM_REDUCERS_1} \\\n",
    "    -files mapper1.py,reducer1.py \\\n",
    "    -mapper \"python mapper1.py\" \\\n",
    "    -combiner \"python reducer1.py\" \\\n",
    "    -reducer \"python reducer1.py\" \\\n",
    "    -input /data/wiki/en_articles_part \\\n",
    "    -output ${OUT_DIR_1} > /dev/null\n",
    "\n",
    "\n",
    "\n",
    "\n",
    "OUT_DIR_2=\"assignment_2_\"$(date +\"%s%6N\")\n",
    "NUM_REDUCERS_2=1\n",
    "\n",
    "hdfs dfs -rm -r -skipTrash ${OUT_DIR_2} > /dev/null\n",
    "\n",
    "yarn jar /opt/cloudera/parcels/CDH/lib/hadoop-mapreduce/hadoop-streaming.jar \\\n",
    "    -D mapred.jab.name=\"Streaming wordCount_2\" \\\n",
    "    -D mapreduce.job.reduces=${NUM_REDUCERS_2} \\\n",
    "    -D mapreduce.job.output.key.comparator.class=org.apache.hadoop.mapreduce.lib.partition.KeyFieldBasedComparator \\\n",
    "    -D mapreduce.map.output.key.field.separator=\\t \\\n",
    "    -D mapreduce.partition.keycomparator.options=-k1,1nr \\\n",
    "    -files mapper2.py,reducer2.py \\\n",
    "    -mapper \"python mapper2.py\" \\\n",
    "    -reducer \"python reducer2.py\" \\\n",
    "    -input ${OUT_DIR_1} \\\n",
    "    -output ${OUT_DIR_2} > /dev/null\n",
    "\n",
    "\n",
    "\n",
    "hdfs dfs -cat ${OUT_DIR_2}/part-00000 | head -7 | tail -1"
   ]
  },
  {
   "cell_type": "code",
   "execution_count": null,
   "metadata": {},
   "outputs": [],
   "source": []
  }
 ],
 "metadata": {
  "colab": {
   "collapsed_sections": [],
   "default_view": {},
   "name": "701_to_students.ipynb",
   "provenance": [],
   "version": "0.3.2",
   "views": {}
  },
  "kernelspec": {
   "display_name": "Python 3",
   "language": "python",
   "name": "python3"
  },
  "language_info": {
   "codemirror_mode": {
    "name": "ipython",
    "version": 3
   },
   "file_extension": ".py",
   "mimetype": "text/x-python",
   "name": "python",
   "nbconvert_exporter": "python",
   "pygments_lexer": "ipython3",
   "version": "3.6.5"
  },
  "toc": {
   "base_numbering": 1,
   "nav_menu": {},
   "number_sections": false,
   "sideBar": true,
   "skip_h1_title": false,
   "title_cell": "Table of Contents",
   "title_sidebar": "Contents",
   "toc_cell": false,
   "toc_position": {},
   "toc_section_display": true,
   "toc_window_display": false
  }
 },
 "nbformat": 4,
 "nbformat_minor": 1
}
